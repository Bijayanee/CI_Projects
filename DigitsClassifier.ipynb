{
  "nbformat": 4,
  "nbformat_minor": 0,
  "metadata": {
    "colab": {
      "provenance": [],
      "authorship_tag": "ABX9TyMpZ2GjOcZQOERFGWY2ZRwZ",
      "include_colab_link": true
    },
    "kernelspec": {
      "name": "python3",
      "display_name": "Python 3"
    },
    "language_info": {
      "name": "python"
    }
  },
  "cells": [
    {
      "cell_type": "markdown",
      "metadata": {
        "id": "view-in-github",
        "colab_type": "text"
      },
      "source": [
        "<a href=\"https://colab.research.google.com/github/Bijayanee/CI_Projects/blob/main/DigitsClassifier.ipynb\" target=\"_parent\"><img src=\"https://colab.research.google.com/assets/colab-badge.svg\" alt=\"Open In Colab\"/></a>"
      ]
    },
    {
      "cell_type": "code",
      "execution_count": null,
      "metadata": {
        "id": "UVXXK6B9L7Xd"
      },
      "outputs": [],
      "source": [
        "import torch\n",
        "import torch.nn as nn\n",
        "import torch.optim as optim\n",
        "from sklearn.datasets import load_digits\n",
        "from sklearn.model_selection import train_test_split\n",
        "from sklearn.preprocessing import StandardScaler\n",
        "import matplotlib.pyplot as plt"
      ]
    },
    {
      "cell_type": "markdown",
      "source": [
        "Load and Prepare the Data"
      ],
      "metadata": {
        "id": "RFTRq0Sqb4rQ"
      }
    },
    {
      "cell_type": "code",
      "source": [
        "# Load digits dataset\n",
        "digits = load_digits()\n",
        "X = digits.data        # Shape: [n_samples, 64]\n",
        "y = digits.target      # Labels: 0–9\n",
        "\n",
        "# Scale features\n",
        "scaler = StandardScaler()\n",
        "X = scaler.fit_transform(X)\n",
        "\n",
        "# Convert to PyTorch tensors\n",
        "X = torch.tensor(X, dtype=torch.float32)\n",
        "y = torch.tensor(y, dtype=torch.long)\n",
        "\n",
        "# Split into train and test sets\n",
        "X_train, X_test, y_train, y_test = train_test_split(X, y, test_size=0.2, random_state=42)"
      ],
      "metadata": {
        "id": "_VhXgjPYb1AY"
      },
      "execution_count": null,
      "outputs": []
    },
    {
      "cell_type": "markdown",
      "source": [
        "Define the Perceptron Model"
      ],
      "metadata": {
        "id": "imQpBsekb-Nv"
      }
    },
    {
      "cell_type": "code",
      "source": [
        "class MultiOutputPerceptron(nn.Module):\n",
        "    def __init__(self, input_size, output_size):\n",
        "        super().__init__()\n",
        "        self.linear = nn.Linear(input_size, output_size)\n",
        "\n",
        "    def forward(self, x):\n",
        "        return self.linear(x)  # raw logits"
      ],
      "metadata": {
        "id": "twdHkKaIb7wN"
      },
      "execution_count": null,
      "outputs": []
    },
    {
      "cell_type": "markdown",
      "source": [
        "Training Setup"
      ],
      "metadata": {
        "id": "2rR9kxC8cFtC"
      }
    },
    {
      "cell_type": "code",
      "source": [
        "model = MultiOutputPerceptron(input_size=64, output_size=10)\n",
        "criterion = nn.CrossEntropyLoss()  # handles softmax internally\n",
        "optimizer = optim.SGD(model.parameters(), lr=0.1)"
      ],
      "metadata": {
        "id": "JwHf47KUcAaN"
      },
      "execution_count": null,
      "outputs": []
    },
    {
      "cell_type": "markdown",
      "source": [
        "Train the Model"
      ],
      "metadata": {
        "id": "tbPRMnCfcLDm"
      }
    },
    {
      "cell_type": "code",
      "source": [
        "epochs = 100\n",
        "losses = []\n",
        "\n",
        "for epoch in range(epochs):\n",
        "    model.train()\n",
        "    optimizer.zero_grad()\n",
        "    outputs = model(X_train)\n",
        "    loss = criterion(outputs, y_train)\n",
        "    loss.backward()\n",
        "    optimizer.step()\n",
        "    losses.append(loss.item())\n",
        "\n",
        "    if (epoch + 1) % 10 == 0:\n",
        "        print(f\"Epoch {epoch+1}/{epochs}, Loss: {loss.item():.4f}\")"
      ],
      "metadata": {
        "colab": {
          "base_uri": "https://localhost:8080/"
        },
        "id": "28G90EAdcII6",
        "outputId": "622dc410-141c-421c-be17-74aab08d0fcb"
      },
      "execution_count": null,
      "outputs": [
        {
          "output_type": "stream",
          "name": "stdout",
          "text": [
            "Epoch 10/100, Loss: 0.2854\n",
            "Epoch 20/100, Loss: 0.2713\n",
            "Epoch 30/100, Loss: 0.2591\n",
            "Epoch 40/100, Loss: 0.2483\n",
            "Epoch 50/100, Loss: 0.2388\n",
            "Epoch 60/100, Loss: 0.2302\n",
            "Epoch 70/100, Loss: 0.2225\n",
            "Epoch 80/100, Loss: 0.2155\n",
            "Epoch 90/100, Loss: 0.2091\n",
            "Epoch 100/100, Loss: 0.2032\n"
          ]
        }
      ]
    },
    {
      "cell_type": "markdown",
      "source": [
        "Plot Loss Curve"
      ],
      "metadata": {
        "id": "IvTJCNqPcUW2"
      }
    },
    {
      "cell_type": "code",
      "source": [
        "plt.plot(losses)\n",
        "plt.title(\"Training Loss Curve\")\n",
        "plt.xlabel(\"Epoch\")\n",
        "plt.ylabel(\"Loss\")\n",
        "plt.grid(True)\n",
        "plt.tight_layout()\n",
        "plt.show()"
      ],
      "metadata": {
        "colab": {
          "base_uri": "https://localhost:8080/",
          "height": 487
        },
        "id": "Ead64nYHcNe-",
        "outputId": "d8d65141-30db-4ea7-b82a-f1ddefec61d2"
      },
      "execution_count": null,
      "outputs": [
        {
          "output_type": "display_data",
          "data": {
            "text/plain": [
              "<Figure size 640x480 with 1 Axes>"
            ],
            "image/png": "[encoded data removed]"
          },
          "metadata": {}
        }
      ]
    },
    {
      "cell_type": "markdown",
      "source": [
        "Evaluate Accuracy"
      ],
      "metadata": {
        "id": "bX0FdsjCcZTY"
      }
    },
    {
      "cell_type": "code",
      "source": [
        "model.eval()\n",
        "with torch.no_grad():\n",
        "    test_logits = model(X_test)\n",
        "    predictions = torch.argmax(test_logits, dim=1)\n",
        "    accuracy = (predictions == y_test).float().mean()\n",
        "    print(f\"\\nTest Accuracy: {accuracy.item() * 100:.2f}%\")"
      ],
      "metadata": {
        "colab": {
          "base_uri": "https://localhost:8080/"
        },
        "id": "jyQglI3AcVD-",
        "outputId": "66ed98c2-6d69-4bac-9bf4-b2f89226966f"
      },
      "execution_count": null,
      "outputs": [
        {
          "output_type": "stream",
          "name": "stdout",
          "text": [
            "\n",
            "Test Accuracy: 94.44%\n"
          ]
        }
      ]
    }
  ]
}