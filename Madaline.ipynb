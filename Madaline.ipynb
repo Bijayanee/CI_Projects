{
  "nbformat": 4,
  "nbformat_minor": 0,
  "metadata": {
    "colab": {
      "provenance": [],
      "authorship_tag": "ABX9TyOqaZ/GjanV9HF5FGfdYjfq",
      "include_colab_link": true
    },
    "kernelspec": {
      "name": "python3",
      "display_name": "Python 3"
    },
    "language_info": {
      "name": "python"
    }
  },
  "cells": [
    {
      "cell_type": "markdown",
      "metadata": {
        "id": "view-in-github",
        "colab_type": "text"
      },
      "source": [
        "<a href=\"https://colab.research.google.com/github/Bijayanee/CI_Projects/blob/main/Madaline.ipynb\" target=\"_parent\"><img src=\"https://colab.research.google.com/assets/colab-badge.svg\" alt=\"Open In Colab\"/></a>"
      ]
    },
    {
      "cell_type": "code",
      "execution_count": 1,
      "metadata": {
        "colab": {
          "base_uri": "https://localhost:8080/"
        },
        "id": "BQFdmKzOnGqN",
        "outputId": "c8fdce7d-28da-4d3e-dd03-fbc72dac479d"
      },
      "outputs": [
        {
          "output_type": "stream",
          "name": "stdout",
          "text": [
            "Downloading from https://www.kaggle.com/api/v1/datasets/download/priyanka841/heart-disease-prediction-uci?dataset_version_number=1...\n"
          ]
        },
        {
          "output_type": "stream",
          "name": "stderr",
          "text": [
            "100%|██████████| 3.40k/3.40k [00:00<00:00, 5.83MB/s]"
          ]
        },
        {
          "output_type": "stream",
          "name": "stdout",
          "text": [
            "Extracting files...\n",
            "Path to dataset files: /root/.cache/kagglehub/datasets/priyanka841/heart-disease-prediction-uci/versions/1\n"
          ]
        },
        {
          "output_type": "stream",
          "name": "stderr",
          "text": [
            "\n"
          ]
        }
      ],
      "source": [
        "import kagglehub\n",
        "\n",
        "# Download latest version\n",
        "path = kagglehub.dataset_download(\"priyanka841/heart-disease-prediction-uci\")\n",
        "\n",
        "print(\"Path to dataset files:\", path)"
      ]
    },
    {
      "cell_type": "code",
      "source": [
        "import pandas as pd\n",
        "import numpy as np\n",
        "import torch\n",
        "import torch.nn as nn\n",
        "import torch.optim as optim\n",
        "from sklearn.model_selection import train_test_split\n",
        "from sklearn.preprocessing import MinMaxScaler"
      ],
      "metadata": {
        "id": "9FD5oKTTna1G"
      },
      "execution_count": 5,
      "outputs": []
    },
    {
      "cell_type": "code",
      "source": [
        "df = pd.read_csv(path + \"/heart.csv\")\n",
        "print(df.head())"
      ],
      "metadata": {
        "colab": {
          "base_uri": "https://localhost:8080/"
        },
        "id": "p0T6q9ZPnl59",
        "outputId": "708ccdaf-6a19-4831-ae63-a8b3b80296d6"
      },
      "execution_count": 6,
      "outputs": [
        {
          "output_type": "stream",
          "name": "stdout",
          "text": [
            "   age  sex  cp  trestbps  chol  fbs  restecg  thalach  exang  oldpeak  slope  \\\n",
            "0   63    1   3       145   233    1        0      150      0      2.3      0   \n",
            "1   37    1   2       130   250    0        1      187      0      3.5      0   \n",
            "2   41    0   1       130   204    0        0      172      0      1.4      2   \n",
            "3   56    1   1       120   236    0        1      178      0      0.8      2   \n",
            "4   57    0   0       120   354    0        1      163      1      0.6      2   \n",
            "\n",
            "   ca  thal  target  \n",
            "0   0     1       1  \n",
            "1   0     2       1  \n",
            "2   0     2       1  \n",
            "3   0     2       1  \n",
            "4   0     2       1  \n"
          ]
        }
      ]
    },
    {
      "cell_type": "code",
      "source": [
        "X = df.drop('target', axis=1).values\n",
        "y = df['target'].values\n",
        "\n",
        "# Convert targets to bipolar (-1, 1) for MADALINE\n",
        "y = np.where(y == 0, -1, 1)\n",
        "\n",
        "# Normalize features to [-1, 1]\n",
        "scaler = MinMaxScaler(feature_range=(-1, 1))\n",
        "X = scaler.fit_transform(X)"
      ],
      "metadata": {
        "id": "LUu6lqojnoIo"
      },
      "execution_count": 7,
      "outputs": []
    },
    {
      "cell_type": "code",
      "source": [
        "X_train, X_test, y_train, y_test = train_test_split(X, y, test_size=0.2, random_state=42)"
      ],
      "metadata": {
        "id": "U6S0-UUAnw7-"
      },
      "execution_count": 8,
      "outputs": []
    },
    {
      "cell_type": "code",
      "source": [
        "# Convert to tensors\n",
        "X_train = torch.tensor(X_train, dtype=torch.float32)\n",
        "X_test = torch.tensor(X_test, dtype=torch.float32)\n",
        "y_train = torch.tensor(y_train, dtype=torch.float32).view(-1, 1)\n",
        "y_test = torch.tensor(y_test, dtype=torch.float32).view(-1, 1)"
      ],
      "metadata": {
        "id": "M5IiG5FZotnW"
      },
      "execution_count": 12,
      "outputs": []
    },
    {
      "cell_type": "code",
      "source": [
        "# Define MADALINE Model\n",
        "class MADALINE(nn.Module):\n",
        "    def __init__(self, input_size, hidden_size):\n",
        "        super(MADALINE, self).__init__()\n",
        "        self.hidden = nn.Linear(input_size, hidden_size)\n",
        "        self.output = nn.Linear(hidden_size, 1)\n",
        "        self.act = nn.Tanh()  # Bipolar activation\n",
        "\n",
        "    def forward(self, x):\n",
        "        x = self.act(self.hidden(x))\n",
        "        x = self.act(self.output(x))\n",
        "        return x"
      ],
      "metadata": {
        "id": "knxtYGEZn-UQ"
      },
      "execution_count": 13,
      "outputs": []
    },
    {
      "cell_type": "code",
      "source": [
        "# Initialize model, loss, optimizer\n",
        "model = MADALINE(input_size=X_train.shape[1], hidden_size=10)\n",
        "criterion = nn.MSELoss()\n",
        "optimizer = optim.SGD(model.parameters(), lr=0.01)\n",
        "# Train model\n",
        "epochs = 200\n",
        "for epoch in range(epochs):\n",
        "    optimizer.zero_grad()\n",
        "    outputs = model(X_train)\n",
        "    loss = criterion(outputs, y_train)\n",
        "    loss.backward()\n",
        "    optimizer.step()\n",
        "    if (epoch+1) % 10 == 0:\n",
        "        print(f\"Epoch [{epoch+1}/{epochs}], Loss: {loss.item():.4f}\")"
      ],
      "metadata": {
        "colab": {
          "base_uri": "https://localhost:8080/"
        },
        "id": "f2w7z1OkoDyY",
        "outputId": "2eaa9b3f-9611-4985-f578-09a398ae621e"
      },
      "execution_count": 36,
      "outputs": [
        {
          "output_type": "stream",
          "name": "stdout",
          "text": [
            "Epoch [10/200], Loss: 0.9653\n",
            "Epoch [20/200], Loss: 0.9032\n",
            "Epoch [30/200], Loss: 0.8500\n",
            "Epoch [40/200], Loss: 0.8045\n",
            "Epoch [50/200], Loss: 0.7655\n",
            "Epoch [60/200], Loss: 0.7323\n",
            "Epoch [70/200], Loss: 0.7042\n",
            "Epoch [80/200], Loss: 0.6803\n",
            "Epoch [90/200], Loss: 0.6601\n",
            "Epoch [100/200], Loss: 0.6428\n",
            "Epoch [110/200], Loss: 0.6280\n",
            "Epoch [120/200], Loss: 0.6151\n",
            "Epoch [130/200], Loss: 0.6038\n",
            "Epoch [140/200], Loss: 0.5937\n",
            "Epoch [150/200], Loss: 0.5848\n",
            "Epoch [160/200], Loss: 0.5767\n",
            "Epoch [170/200], Loss: 0.5693\n",
            "Epoch [180/200], Loss: 0.5626\n",
            "Epoch [190/200], Loss: 0.5564\n",
            "Epoch [200/200], Loss: 0.5507\n"
          ]
        }
      ]
    },
    {
      "cell_type": "code",
      "source": [
        "# Predictions & Accuracy\n",
        "with torch.no_grad():\n",
        "    predictions = model(X_test)\n",
        "    predicted_classes = torch.where(predictions >= 0, 1, -1)\n",
        "    accuracy = (predicted_classes == y_test).sum().item() / y_test.size(0)\n",
        "    print(f\"\\nTest Accuracy: {accuracy*100:.2f}%\\n\")\n",
        "    print(\"Sample Predictions (Actual vs Predicted):\")\n",
        "    for i in range(10):\n",
        "        print(f\"Actual: {int(y_test[i].item())}   Predicted: {int(predicted_classes[i].item())}\")"
      ],
      "metadata": {
        "colab": {
          "base_uri": "https://localhost:8080/"
        },
        "id": "RE8Q_ijvoy2w",
        "outputId": "ec264c22-6cc5-4c4b-f617-93b8266cc3d7"
      },
      "execution_count": 38,
      "outputs": [
        {
          "output_type": "stream",
          "name": "stdout",
          "text": [
            "\n",
            "Test Accuracy: 88.52%\n",
            "\n",
            "Sample Predictions (Actual vs Predicted):\n",
            "Actual: -1   Predicted: -1\n",
            "Actual: -1   Predicted: 1\n",
            "Actual: 1   Predicted: 1\n",
            "Actual: -1   Predicted: -1\n",
            "Actual: 1   Predicted: 1\n",
            "Actual: 1   Predicted: 1\n",
            "Actual: 1   Predicted: 1\n",
            "Actual: -1   Predicted: -1\n",
            "Actual: -1   Predicted: -1\n",
            "Actual: 1   Predicted: 1\n"
          ]
        }
      ]
    }
  ]
}